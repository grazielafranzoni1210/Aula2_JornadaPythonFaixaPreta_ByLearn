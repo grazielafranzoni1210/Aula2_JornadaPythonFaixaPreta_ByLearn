{
  "nbformat": 4,
  "nbformat_minor": 0,
  "metadata": {
    "colab": {
      "name": "Aula2_ByLearn.py",
      "provenance": [],
      "collapsed_sections": [],
      "toc_visible": true,
      "authorship_tag": "ABX9TyOpyh64dfkVcl/pECWB1PGI",
      "include_colab_link": true
    },
    "kernelspec": {
      "name": "python3",
      "display_name": "Python 3"
    },
    "language_info": {
      "name": "python"
    }
  },
  "cells": [
    {
      "cell_type": "markdown",
      "metadata": {
        "id": "view-in-github",
        "colab_type": "text"
      },
      "source": [
        "<a href=\"https://colab.research.google.com/github/grazielafranzoni1210/Aula2_JornadaPythonFaixaPreta_ByLearn/blob/main/Aula2_ByLearn_py.ipynb\" target=\"_parent\"><img src=\"https://colab.research.google.com/assets/colab-badge.svg\" alt=\"Open In Colab\"/></a>"
      ]
    },
    {
      "cell_type": "code",
      "metadata": {
        "id": "OOyztwxq1M4_"
      },
      "source": [
        "# Escopo Pai\n",
        "  # Escopo Filho\n",
        "    # Escopo Neto\n",
        "      # Escopo Bisneto\n",
        "    # Escopo Neto 2"
      ],
      "execution_count": null,
      "outputs": []
    },
    {
      "cell_type": "markdown",
      "metadata": {
        "id": "5rx1tjn784aZ"
      },
      "source": [
        "# Variáveis\n",
        "\n",
        "Uma variável é um nome que se refere a um valor\n",
        "\n",
        "**Ps.:** Variáveis não podem ter acento no nome.\n",
        "\n",
        "# Atribuição\n",
        "\n",
        "Atribuição é passar um valor para uma variável\n",
        "Uma variável passa a valer o que a gente informa pra ela\n",
        "\n",
        "# Sintaxe\n",
        "\n",
        "variavel = valor\n",
        "\n",
        "# Porque chama variável?\n",
        "\n",
        "Porque como o próprio nome já diz, ela pode variar, ou seja, pode mudar.\n"
      ]
    },
    {
      "cell_type": "code",
      "metadata": {
        "id": "R6kDRV9F9Pxv"
      },
      "source": [
        "nome = \"Graziela Franzoni\"\n",
        "primeiro_numero = 15 # não pode ter espaço na variável\n",
        "segundo_numero = 25"
      ],
      "execution_count": null,
      "outputs": []
    },
    {
      "cell_type": "code",
      "metadata": {
        "id": "oXBzb_qQ_-UH"
      },
      "source": [
        "soma = primeiro_numero + segundo_numero"
      ],
      "execution_count": null,
      "outputs": []
    },
    {
      "cell_type": "code",
      "metadata": {
        "colab": {
          "base_uri": "https://localhost:8080/"
        },
        "id": "anGLYpahIQQI",
        "outputId": "9637446e-6ffc-4cd4-8670-8920d818b321"
      },
      "source": [
        "soma"
      ],
      "execution_count": null,
      "outputs": [
        {
          "output_type": "execute_result",
          "data": {
            "text/plain": [
              "40"
            ]
          },
          "metadata": {
            "tags": []
          },
          "execution_count": 15
        }
      ]
    },
    {
      "cell_type": "markdown",
      "metadata": {
        "id": "sUPDSgXyKt8C"
      },
      "source": [
        "# Tipos de Dados\n",
        "\n",
        "Cada dado (variável) possui um tipo, que serve para definir o que é aquela variável\n",
        "\n",
        "\n",
        "*   **int:** números inteiros\n",
        "*   **float:** números decimais, ou seja, números com vírgulas\n",
        "*   **str:** de String, que são textos dentro de aspas duplas ou simples\n",
        "*   **bool:** de Booleanos, que são os verdadeiros ou falsos\n",
        "\n",
        "\n",
        "\n",
        "\n",
        "\n"
      ]
    },
    {
      "cell_type": "code",
      "metadata": {
        "id": "Tj4_7PnxL_wN"
      },
      "source": [
        "inteiro = 10\n",
        "decimal = 5.25\n",
        "texto = 'Graziela Franzoni'\n",
        "verdadeiro = True"
      ],
      "execution_count": null,
      "outputs": []
    },
    {
      "cell_type": "markdown",
      "metadata": {
        "id": "qOR9x5OGNxKN"
      },
      "source": [
        "No Python, sempre evita ambiguidade."
      ]
    },
    {
      "cell_type": "markdown",
      "metadata": {
        "id": "SYrpMQ8qPLqv"
      },
      "source": [
        "# Operações matemáticas\n",
        "\n",
        "Podemos realizar operações, como por exemplo:\n",
        "\n",
        "*   Soma\n",
        "*   Subtração\n",
        "*   Divisão\n",
        "*   Multiplicação\n",
        "\n",
        "** Ps:** Dividir por 0 dá erro."
      ]
    },
    {
      "cell_type": "markdown",
      "metadata": {
        "id": "tWC-5qTLSYQP"
      },
      "source": [
        "# Métodos de entrada\n",
        "\n",
        "São formas de receber dados de usuário, ou seja, enviar um valor para um programa.\n",
        "\n",
        "No Python nós usamos a função \"input()\".\n",
        "\n",
        "Podemos passar a função input um texto por **parâmetro**, que será a instrução da entrada."
      ]
    },
    {
      "cell_type": "code",
      "metadata": {
        "colab": {
          "base_uri": "https://localhost:8080/"
        },
        "id": "AzjTumvLTifU",
        "outputId": "7b53d924-57d8-4983-f836-ba8c3ed5fdc7"
      },
      "source": [
        "nome = input('Qual é o seu nome? ')\n",
        "idade = input('Qual é a sua idade? ')"
      ],
      "execution_count": null,
      "outputs": [
        {
          "output_type": "stream",
          "text": [
            "Qual é o seu nome? Graziela\n",
            "Qual é a sua idade? 33\n"
          ],
          "name": "stdout"
        }
      ]
    },
    {
      "cell_type": "code",
      "metadata": {
        "colab": {
          "base_uri": "https://localhost:8080/",
          "height": 35
        },
        "id": "ddLQVSwWULoV",
        "outputId": "aa57d5be-181b-45f7-84bf-c4ce76d027b5"
      },
      "source": [
        "nome"
      ],
      "execution_count": null,
      "outputs": [
        {
          "output_type": "execute_result",
          "data": {
            "application/vnd.google.colaboratory.intrinsic+json": {
              "type": "string"
            },
            "text/plain": [
              "'Graziela'"
            ]
          },
          "metadata": {
            "tags": []
          },
          "execution_count": 18
        }
      ]
    },
    {
      "cell_type": "code",
      "metadata": {
        "colab": {
          "base_uri": "https://localhost:8080/",
          "height": 35
        },
        "id": "lnQBryLUUNjZ",
        "outputId": "29532f10-c696-4d5a-8a64-bccf5c200db7"
      },
      "source": [
        "idade"
      ],
      "execution_count": null,
      "outputs": [
        {
          "output_type": "execute_result",
          "data": {
            "application/vnd.google.colaboratory.intrinsic+json": {
              "type": "string"
            },
            "text/plain": [
              "'33'"
            ]
          },
          "metadata": {
            "tags": []
          },
          "execution_count": 19
        }
      ]
    },
    {
      "cell_type": "code",
      "metadata": {
        "colab": {
          "base_uri": "https://localhost:8080/"
        },
        "id": "xv4XR0dxUhHj",
        "outputId": "e46e6704-87b9-43a4-fabb-d801c0c72396"
      },
      "source": [
        "nome = input('Qual é o seu nome? ')\n",
        "idade = int( input('Qual é a sua idade? '))"
      ],
      "execution_count": null,
      "outputs": [
        {
          "output_type": "stream",
          "text": [
            "Qual é o seu nome? Graziela\n",
            "Qual é a sua idade? 33\n"
          ],
          "name": "stdout"
        }
      ]
    },
    {
      "cell_type": "code",
      "metadata": {
        "id": "FqX2p6KMWVh5"
      },
      "source": [
        "idade = idade + 1"
      ],
      "execution_count": null,
      "outputs": []
    },
    {
      "cell_type": "code",
      "metadata": {
        "colab": {
          "base_uri": "https://localhost:8080/"
        },
        "id": "wfEBQ4zXWd7w",
        "outputId": "13df536c-9051-449b-86c0-69cfde85f080"
      },
      "source": [
        "idade"
      ],
      "execution_count": null,
      "outputs": [
        {
          "output_type": "execute_result",
          "data": {
            "text/plain": [
              "35"
            ]
          },
          "metadata": {
            "tags": []
          },
          "execution_count": 23
        }
      ]
    },
    {
      "cell_type": "markdown",
      "metadata": {
        "id": "WA3QAU5JjTrC"
      },
      "source": [
        "# Métodos de saída\n",
        "\n",
        "Servem para enviar dados ao usuário, ou seja, mostrar os dadosda aplicação para um usuário externo.\n",
        "\n",
        "No Python, usamos a função print() e como parâmetro podemos enviar mensagem."
      ]
    },
    {
      "cell_type": "code",
      "metadata": {
        "colab": {
          "base_uri": "https://localhost:8080/"
        },
        "id": "ajE_Fteyj5E2",
        "outputId": "17e102b2-7eb8-474b-844d-9d86975692ba"
      },
      "source": [
        "print('Bem-vindo a nossa calculadora de multiplicação!')\n",
        "\n",
        "numero1 = float(input('Digite o primeiro número: '))\n",
        "numero2 = float(input('Digite o segundo número: '))\n",
        "\n",
        "resultado = numero1 + numero2\n",
        "\n",
        "print('O resultado é', resultado)"
      ],
      "execution_count": null,
      "outputs": [
        {
          "output_type": "stream",
          "text": [
            "Bem-vindo a nossa calculadora de multiplicação!\n",
            "Digite o primeiro número: 2\n",
            "Digite o segundo número: 2\n",
            "O resultado é 4.0\n"
          ],
          "name": "stdout"
        }
      ]
    },
    {
      "cell_type": "code",
      "metadata": {
        "colab": {
          "base_uri": "https://localhost:8080/"
        },
        "id": "ljRWccj6lYPu",
        "outputId": "18f8c042-ce05-4a42-f20d-84010de5dd31"
      },
      "source": [
        "nome = 'Graziela'\n",
        "sobrenome = 'Franzoni'\n",
        "idade = 33\n",
        "\n",
        "print('Olá,', nome, sobrenome,\", sua idade é de\", idade, \"anos!\")"
      ],
      "execution_count": null,
      "outputs": [
        {
          "output_type": "stream",
          "text": [
            "Olá, Graziela Franzoni , sua idade é de 33 anos!\n"
          ],
          "name": "stdout"
        }
      ]
    },
    {
      "cell_type": "code",
      "metadata": {
        "colab": {
          "base_uri": "https://localhost:8080/"
        },
        "id": "aQRO5Themdxk",
        "outputId": "c262e4b3-e885-4753-cd44-ebb549fcdf4e"
      },
      "source": [
        "nome = 'Graziela'\n",
        "sobrenome = 'Franzoni'\n",
        "idade = 33\n",
        "\n",
        "print('Olá,', nome, sobrenome+\", sua idade é de\", idade, \"anos!\")"
      ],
      "execution_count": null,
      "outputs": [
        {
          "output_type": "stream",
          "text": [
            "Olá, Graziela Franzoni, sua idade é de 33 anos!\n"
          ],
          "name": "stdout"
        }
      ]
    },
    {
      "cell_type": "code",
      "metadata": {
        "colab": {
          "base_uri": "https://localhost:8080/"
        },
        "id": "Oi8YGI0gn0Yv",
        "outputId": "331b6b56-ed69-4ab6-aeaf-5b0bcdd5bd01"
      },
      "source": [
        "aluno = 'Graziela'\n",
        "\n",
        "prova_mensal = 9\n",
        "prova_bimestral = 7.5\n",
        "\n",
        "soma = prova_mensal + prova_bimestral\n",
        "\n",
        "quantidade = 2\n",
        "\n",
        "media = soma / quantidade\n",
        "\n",
        "print(f'A média do aluno {aluno} é {media}.') # quando coloca a chave na variável, ela vai receber o valor da variável que está fora dela"
      ],
      "execution_count": null,
      "outputs": [
        {
          "output_type": "stream",
          "text": [
            "A média do aluno Graziela é 8.25.\n"
          ],
          "name": "stdout"
        }
      ]
    },
    {
      "cell_type": "markdown",
      "metadata": {
        "id": "2dxTIJzppKBj"
      },
      "source": [
        "Outra de forma de fazer o print anterior da média é:"
      ]
    },
    {
      "cell_type": "code",
      "metadata": {
        "colab": {
          "base_uri": "https://localhost:8080/"
        },
        "id": "Rv0gYmmLpJTl",
        "outputId": "30f6c0c5-9e11-4cc7-e00d-b97e9ec0f4fd"
      },
      "source": [
        "print('A média do aluno', aluno, 'é', media)"
      ],
      "execution_count": null,
      "outputs": [
        {
          "output_type": "stream",
          "text": [
            "A média do aluno Graziela é 8.25\n"
          ],
          "name": "stdout"
        }
      ]
    },
    {
      "cell_type": "markdown",
      "metadata": {
        "id": "58xj73hsp6Z3"
      },
      "source": [
        "# Listas\n",
        "\n",
        "Métodos de trabaçhar com sequências."
      ]
    },
    {
      "cell_type": "code",
      "metadata": {
        "id": "AUke_U7qscZf"
      },
      "source": [
        "lista = ['Cachorro', 'Gato', 'Coelho', 'Furão', 'Hamster']\n",
        "# Posição:    1         2        3        4          5\n",
        "# Indice:     0         1        2        3          4"
      ],
      "execution_count": null,
      "outputs": []
    },
    {
      "cell_type": "code",
      "metadata": {
        "id": "nqWlF6KRuazQ"
      },
      "source": [
        "luninha = lista[0]"
      ],
      "execution_count": null,
      "outputs": []
    },
    {
      "cell_type": "code",
      "metadata": {
        "id": "lfrCkGvnugEm"
      },
      "source": [
        "doctor = lista[1]"
      ],
      "execution_count": null,
      "outputs": []
    },
    {
      "cell_type": "code",
      "metadata": {
        "id": "lYZvwgPvujOf"
      },
      "source": [
        "lollo = lista[2]"
      ],
      "execution_count": null,
      "outputs": []
    },
    {
      "cell_type": "code",
      "metadata": {
        "id": "A7qmZiTIumpZ"
      },
      "source": [
        "shura = lista[3]"
      ],
      "execution_count": null,
      "outputs": []
    },
    {
      "cell_type": "code",
      "metadata": {
        "id": "k4Zra1Vnxq_j"
      },
      "source": [
        "dwight = lista[4]"
      ],
      "execution_count": null,
      "outputs": []
    },
    {
      "cell_type": "code",
      "metadata": {
        "colab": {
          "base_uri": "https://localhost:8080/"
        },
        "id": "mQ4o8rwOvu_Y",
        "outputId": "c94462ea-79ef-40c4-b5ff-412bbe6e91af"
      },
      "source": [
        "print(luninha)"
      ],
      "execution_count": null,
      "outputs": [
        {
          "output_type": "stream",
          "text": [
            "Cachorro\n"
          ],
          "name": "stdout"
        }
      ]
    },
    {
      "cell_type": "code",
      "metadata": {
        "colab": {
          "base_uri": "https://localhost:8080/"
        },
        "id": "zhgWEamUxR8s",
        "outputId": "ea1166c0-9c15-4159-be20-0742941e2509"
      },
      "source": [
        "print(doctor)"
      ],
      "execution_count": null,
      "outputs": [
        {
          "output_type": "stream",
          "text": [
            "Gato\n"
          ],
          "name": "stdout"
        }
      ]
    },
    {
      "cell_type": "code",
      "metadata": {
        "colab": {
          "base_uri": "https://localhost:8080/"
        },
        "id": "t1kOwxPExUNt",
        "outputId": "e28411db-7be1-42ae-a11d-3581cb5bd7bd"
      },
      "source": [
        "print(lollo)"
      ],
      "execution_count": null,
      "outputs": [
        {
          "output_type": "stream",
          "text": [
            "Coelho\n"
          ],
          "name": "stdout"
        }
      ]
    },
    {
      "cell_type": "code",
      "metadata": {
        "colab": {
          "base_uri": "https://localhost:8080/"
        },
        "id": "dSY8KoLvxZfQ",
        "outputId": "3fafc0a0-11bb-49cc-beb4-ae4d2716997d"
      },
      "source": [
        "print(shura)"
      ],
      "execution_count": null,
      "outputs": [
        {
          "output_type": "stream",
          "text": [
            "Furão\n"
          ],
          "name": "stdout"
        }
      ]
    },
    {
      "cell_type": "code",
      "metadata": {
        "colab": {
          "base_uri": "https://localhost:8080/"
        },
        "id": "-YI6aWB3yrZC",
        "outputId": "29d16030-bc03-4fbe-afe4-dcfc92249e8b"
      },
      "source": [
        "print(dwight)"
      ],
      "execution_count": null,
      "outputs": [
        {
          "output_type": "stream",
          "text": [
            "Hamster\n"
          ],
          "name": "stdout"
        }
      ]
    },
    {
      "cell_type": "code",
      "metadata": {
        "id": "YgjPuAqxz0Ij"
      },
      "source": [
        "lista_de_lista = [ [1,2] , [3,4] , [5,6] ] "
      ],
      "execution_count": 11,
      "outputs": []
    },
    {
      "cell_type": "code",
      "metadata": {
        "id": "ugAw8bHQ0BwN"
      },
      "source": [
        "sublista = lista_de_lista[0]"
      ],
      "execution_count": 12,
      "outputs": []
    },
    {
      "cell_type": "code",
      "metadata": {
        "colab": {
          "base_uri": "https://localhost:8080/"
        },
        "id": "wEhQZeKf0KYR",
        "outputId": "2e4c0b88-f1f4-4f77-de38-8a186c6ba74d"
      },
      "source": [
        "sublista[1]"
      ],
      "execution_count": 13,
      "outputs": [
        {
          "output_type": "execute_result",
          "data": {
            "text/plain": [
              "2"
            ]
          },
          "metadata": {
            "tags": []
          },
          "execution_count": 13
        }
      ]
    },
    {
      "cell_type": "code",
      "metadata": {
        "colab": {
          "base_uri": "https://localhost:8080/"
        },
        "id": "BELVj3kU0POj",
        "outputId": "19822ec0-dd6e-406d-c3ae-f3dee862bc3b"
      },
      "source": [
        "lista_de_lista[0][1]"
      ],
      "execution_count": 14,
      "outputs": [
        {
          "output_type": "execute_result",
          "data": {
            "text/plain": [
              "2"
            ]
          },
          "metadata": {
            "tags": []
          },
          "execution_count": 14
        }
      ]
    },
    {
      "cell_type": "code",
      "metadata": {
        "id": "XypkZxM3ESXL"
      },
      "source": [
        "lista = [['Ruffles','Cachorro'], ['Obi-Wan','Gato'], ['Lollo', 'Coelho'], ['Shura', 'Furão'], ['Dwight', 'Hamster']]\n",
        "\n",
        "# [Nome, Espécie]"
      ],
      "execution_count": 28,
      "outputs": []
    },
    {
      "cell_type": "code",
      "metadata": {
        "colab": {
          "base_uri": "https://localhost:8080/"
        },
        "id": "wfDHY3LQ1g3S",
        "outputId": "88f2158d-0cea-40a1-b9e1-c427a7acc1c4"
      },
      "source": [
        "print(f'O {lista[0][0]} é um {lista[0][1]}.')"
      ],
      "execution_count": 29,
      "outputs": [
        {
          "output_type": "stream",
          "text": [
            "O Ruffles é um Cachorro.\n"
          ],
          "name": "stdout"
        }
      ]
    },
    {
      "cell_type": "code",
      "metadata": {
        "colab": {
          "base_uri": "https://localhost:8080/"
        },
        "id": "cumk5iar3n4a",
        "outputId": "ef6fb8a5-73e4-436e-9bca-9b623bc1d597"
      },
      "source": [
        "obi_wan = lista[1]\n",
        "print(f'O {obi_wan[0]} é um {obi_wan[1]}.') # quando usa o f String, pode pegar variáveis de fora da String e colcoar o valor delas aqui."
      ],
      "execution_count": 30,
      "outputs": [
        {
          "output_type": "stream",
          "text": [
            "O Obi-Wan é um Gato.\n"
          ],
          "name": "stdout"
        }
      ]
    },
    {
      "cell_type": "code",
      "metadata": {
        "colab": {
          "base_uri": "https://localhost:8080/"
        },
        "id": "ep5bR3mz31aj",
        "outputId": "afd7633e-fa0b-4b01-d39f-3d918a2cb451"
      },
      "source": [
        "shura = lista[3]\n",
        "print(f'O {lista[0][0]} é um {lista[0][1]}.')\n",
        "print(f'O {obi_wan[0]} é um {obi_wan[1]}.')\n",
        "print(f'A {shura[0]} é uma {shura[1]}.')"
      ],
      "execution_count": 34,
      "outputs": [
        {
          "output_type": "stream",
          "text": [
            "O Ruffles é um Cachorro.\n",
            "O Obi-Wan é um Gato.\n",
            "A Shura é uma Furão.\n"
          ],
          "name": "stdout"
        }
      ]
    },
    {
      "cell_type": "code",
      "metadata": {
        "colab": {
          "base_uri": "https://localhost:8080/"
        },
        "id": "anfPHoJMM0Bm",
        "outputId": "a034ca5d-c4fa-4830-97c0-14c7ef7c5335"
      },
      "source": [
        "print('O', lista[4][0], 'é um', lista[4][1])"
      ],
      "execution_count": 40,
      "outputs": [
        {
          "output_type": "stream",
          "text": [
            "O Dwight é um Hamster\n"
          ],
          "name": "stdout"
        }
      ]
    },
    {
      "cell_type": "markdown",
      "metadata": {
        "id": "ebJkVeV4PI4_"
      },
      "source": [
        "# Condicionais\n",
        "\n",
        "Principal forma de se atribuir uma lógica ao nosso código.\n",
        "Essa lógica é feita através de uma tomada de decisão."
      ]
    },
    {
      "cell_type": "code",
      "metadata": {
        "colab": {
          "base_uri": "https://localhost:8080/"
        },
        "id": "G0Fau9cjPcQq",
        "outputId": "00853e1d-8096-494f-b998-fa6b2ceb75db"
      },
      "source": [
        "horario =  'noite'\n",
        "if horario == 'dia':\n",
        "  print('O sol está quente!')\n",
        "elif horario == 'tarde': # precisa definir o que\n",
        "  print('O pôr do sol está chegando!')\n",
        "else: # o else é qualquer outra coisa\n",
        "  print('A lua está linda!')"
      ],
      "execution_count": 2,
      "outputs": [
        {
          "output_type": "stream",
          "text": [
            "A lua está linda!\n"
          ],
          "name": "stdout"
        }
      ]
    },
    {
      "cell_type": "code",
      "metadata": {
        "colab": {
          "base_uri": "https://localhost:8080/"
        },
        "id": "BYSXwk4RRDtN",
        "outputId": "263b6ea6-8163-4929-c02b-2faf6bd19be6"
      },
      "source": [
        "idade = 17\n",
        "if idade >= 18:\n",
        "  print('Pode entrar!')\n",
        "else:\n",
        "  print('Espere até ter 18 anos!')"
      ],
      "execution_count": 3,
      "outputs": [
        {
          "output_type": "stream",
          "text": [
            "Espere até ter 18 anos!\n"
          ],
          "name": "stdout"
        }
      ]
    },
    {
      "cell_type": "code",
      "metadata": {
        "colab": {
          "base_uri": "https://localhost:8080/"
        },
        "id": "IiAdW6yITDCM",
        "outputId": "e0cd950d-5e28-4ab3-9770-5eaf650be8a7"
      },
      "source": [
        "temperatura = 30\n",
        "if temperatura <= 32:\n",
        "  print('Dá pra aguentar!')\n",
        "else:\n",
        "  print('TÁ MUITO QUENTEEEE!!!')"
      ],
      "execution_count": 5,
      "outputs": [
        {
          "output_type": "stream",
          "text": [
            "Dá pra aguentar!\n"
          ],
          "name": "stdout"
        }
      ]
    },
    {
      "cell_type": "code",
      "metadata": {
        "colab": {
          "base_uri": "https://localhost:8080/"
        },
        "id": "Ed2L3FDcT3_x",
        "outputId": "d51ed08e-bc66-42e3-855b-9b5cb9ce01e5"
      },
      "source": [
        "nome = 'Fabi'\n",
        "\n",
        "if nome != 'Felipe':\n",
        "  print('Não é o Felipe!')"
      ],
      "execution_count": 6,
      "outputs": [
        {
          "output_type": "stream",
          "text": [
            "Não é o Felipe!\n"
          ],
          "name": "stdout"
        }
      ]
    },
    {
      "cell_type": "code",
      "metadata": {
        "colab": {
          "base_uri": "https://localhost:8080/"
        },
        "id": "GSGjkDHUakdC",
        "outputId": "4e01c2d7-d15b-4428-dd4c-5d6e56d66c76"
      },
      "source": [
        "temperatura = 25\n",
        "\n",
        "if temperatura > 0:\n",
        "  print('Está frio!')\n",
        "elif temperatura > 20:\n",
        "  print('Está legal!')\n",
        "elif temperatura >= 25:\n",
        "  print('Está ameno!')\n",
        "elif temperatura >= 30:\n",
        "  print('Está quente!')\n",
        "else:\n",
        "  print('Está congelando!')\n",
        "\n",
        "  # se entrar em mais de um if, ele sempre vai entrar no primeiro if possível"
      ],
      "execution_count": 7,
      "outputs": [
        {
          "output_type": "stream",
          "text": [
            "Está frio!\n"
          ],
          "name": "stdout"
        }
      ]
    },
    {
      "cell_type": "code",
      "metadata": {
        "colab": {
          "base_uri": "https://localhost:8080/"
        },
        "id": "1mZ2H2Gdmpch",
        "outputId": "c1aa7b62-7f33-42a2-a010-ce933573157f"
      },
      "source": [
        "temperatura = 25\n",
        "\n",
        "if temperatura >= 0 and temperatura < 20:\n",
        "  print('Está frio!')\n",
        "elif temperatura > 20 and temperatura < 25:\n",
        "  print('Está legal!')\n",
        "elif temperatura >= 25 and temperatura < 30:\n",
        "  print('Está ameno!')\n",
        "elif temperatura >= 30:\n",
        "  print('Está quente!')\n",
        "else:\n",
        "  print('Está congelando!')"
      ],
      "execution_count": 8,
      "outputs": [
        {
          "output_type": "stream",
          "text": [
            "Está ameno!\n"
          ],
          "name": "stdout"
        }
      ]
    }
  ]
}